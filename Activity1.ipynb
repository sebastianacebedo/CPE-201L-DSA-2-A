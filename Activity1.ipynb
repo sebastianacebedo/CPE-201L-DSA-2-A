{
  "nbformat": 4,
  "nbformat_minor": 0,
  "metadata": {
    "colab": {
      "provenance": [],
      "authorship_tag": "ABX9TyMeklA1RaiolxJ07V+iTDdg",
      "include_colab_link": true
    },
    "kernelspec": {
      "name": "python3",
      "display_name": "Python 3"
    },
    "language_info": {
      "name": "python"
    }
  },
  "cells": [
    {
      "cell_type": "markdown",
      "metadata": {
        "id": "view-in-github",
        "colab_type": "text"
      },
      "source": [
        "<a href=\"https://colab.research.google.com/github/sebastianacebedo/CPE-201L-DSA-2-A/blob/main/Activity1.ipynb\" target=\"_parent\"><img src=\"https://colab.research.google.com/assets/colab-badge.svg\" alt=\"Open In Colab\"/></a>"
      ]
    },
    {
      "cell_type": "markdown",
      "source": [
        "# Area of circle with radius"
      ],
      "metadata": {
        "id": "t5KwFMPO1Rcn"
      }
    },
    {
      "cell_type": "code",
      "source": [
        "radius = float(input('Enter a radius: '))\n",
        "area = 3.14159 * radius **2\n",
        "\n",
        "print('The area of a circle with of radius {} is {}'.format(radius, area))\n"
      ],
      "metadata": {
        "colab": {
          "base_uri": "https://localhost:8080/"
        },
        "id": "eTob7QmizQsW",
        "outputId": "58402a6f-0aad-45d9-8815-156f90661eb5"
      },
      "execution_count": 11,
      "outputs": [
        {
          "output_type": "stream",
          "name": "stdout",
          "text": [
            "Enter a radius: 6\n",
            "The area of a circle with of radius 6.0 is 113.09724\n"
          ]
        }
      ]
    },
    {
      "cell_type": "markdown",
      "source": [
        "# Area of circle with diameter"
      ],
      "metadata": {
        "id": "OowBPz-b1YRO"
      }
    },
    {
      "cell_type": "code",
      "source": [
        "diameter = float(input('Enter a diameter: '))\n",
        "radius = diameter / 2\n",
        "area = 3.14159 * radius **2\n",
        "\n",
        "print('The area of a circle with of diameter {} is {}'.format(diameter, area))\n",
        "\n"
      ],
      "metadata": {
        "colab": {
          "base_uri": "https://localhost:8080/"
        },
        "id": "Bn5OCSAe1dWF",
        "outputId": "f306e6d7-85b4-45ec-c05c-1654894d7d91"
      },
      "execution_count": 12,
      "outputs": [
        {
          "output_type": "stream",
          "name": "stdout",
          "text": [
            "Enter a diameter: 12\n",
            "The area of a circle with of diameter 12.0 is 113.09724\n"
          ]
        }
      ]
    }
  ]
}