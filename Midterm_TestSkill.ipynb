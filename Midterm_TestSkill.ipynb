{
  "nbformat": 4,
  "nbformat_minor": 0,
  "metadata": {
    "colab": {
      "provenance": [],
      "authorship_tag": "ABX9TyMRZWxiFc9onDSjz3cHXe3f",
      "include_colab_link": true
    },
    "kernelspec": {
      "name": "python3",
      "display_name": "Python 3"
    },
    "language_info": {
      "name": "python"
    }
  },
  "cells": [
    {
      "cell_type": "markdown",
      "metadata": {
        "id": "view-in-github",
        "colab_type": "text"
      },
      "source": [
        "<a href=\"https://colab.research.google.com/github/sebastianacebedo/CPE-201L-DSA-2-A/blob/main/Midterm_TestSkill.ipynb\" target=\"_parent\"><img src=\"https://colab.research.google.com/assets/colab-badge.svg\" alt=\"Open In Colab\"/></a>"
      ]
    },
    {
      "cell_type": "code",
      "source": [
        "class Node:\n",
        "    def __init__(self, data):\n",
        "        self.data = data\n",
        "        self.next = None\n",
        "\n",
        "class LinkedList:\n",
        "    def __init__(self):\n",
        "        self.head = None\n",
        "\n",
        "    def display(self):\n",
        "        current = self.head\n",
        "        while current:\n",
        "            print(current.data, end=\" \")\n",
        "            if current.next:\n",
        "                print(\"->\", end=\" \")\n",
        "            current = current.next\n",
        "\n",
        "    def append(self, data):\n",
        "        new_node = Node(data)\n",
        "        if not self.head:\n",
        "            self.head = new_node\n",
        "            return\n",
        "        last = self.head\n",
        "        while last.next:\n",
        "            last = last.next\n",
        "        last.next = new_node\n",
        "\n",
        "    def delete(self, key):\n",
        "        current = self.head\n",
        "        prev = None\n",
        "        while current and current.data != key:\n",
        "            prev = current\n",
        "            current = current.next\n",
        "        if not current:\n",
        "            return\n",
        "        if prev:\n",
        "            prev.next = current.next\n",
        "        else:\n",
        "            self.head = current.next\n",
        "\n",
        "\n",
        "ll = LinkedList()\n",
        "ll.append(1)\n",
        "ll.append(3)\n",
        "ll.append(5)\n",
        "ll.append(7)\n",
        "ll.append(9)\n",
        "ll.append(11)\n",
        "ll.append(13)\n",
        "ll.append(15)\n",
        "ll.append(17)\n",
        "ll.append(19)\n",
        "ll.append(21)\n",
        "ll.append(23)\n",
        "ll.append(25)\n",
        "ll.append(27)\n",
        "ll.append(29)\n",
        "print(\"Initial linked list:\")\n",
        "ll.display()\n",
        "\n",
        "\n",
        "input_number = int(input(\"\\nEnter a number to delete from the linked list: \"))\n",
        "ll.delete(input_number)\n",
        "print(f\"\\nLinked list after deleting odd number {input_number}:\")\n",
        "ll.display()"
      ],
      "metadata": {
        "colab": {
          "base_uri": "https://localhost:8080/"
        },
        "id": "C0PIPErjM0ou",
        "outputId": "be7fe192-8015-4939-a4da-1ed13ee33634"
      },
      "execution_count": 6,
      "outputs": [
        {
          "output_type": "stream",
          "name": "stdout",
          "text": [
            "Initial linked list:\n",
            "1 -> 3 -> 5 -> 7 -> 9 -> 11 -> 13 -> 15 -> 17 -> 19 -> 21 -> 23 -> 25 -> 27 -> 29 \n",
            "Enter a number to delete from the linked list: 15\n",
            "\n",
            "Linked list after deleting odd number 15:\n",
            "1 -> 3 -> 5 -> 7 -> 9 -> 11 -> 13 -> 17 -> 19 -> 21 -> 23 -> 25 -> 27 -> 29 "
          ]
        }
      ]
    }
  ]
}