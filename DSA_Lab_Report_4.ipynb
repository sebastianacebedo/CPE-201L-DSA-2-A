{
  "nbformat": 4,
  "nbformat_minor": 0,
  "metadata": {
    "colab": {
      "provenance": [],
      "authorship_tag": "ABX9TyMhNU/LcCHIKM7yh8Q8FJ1v",
      "include_colab_link": true
    },
    "kernelspec": {
      "name": "python3",
      "display_name": "Python 3"
    },
    "language_info": {
      "name": "python"
    }
  },
  "cells": [
    {
      "cell_type": "markdown",
      "metadata": {
        "id": "view-in-github",
        "colab_type": "text"
      },
      "source": [
        "<a href=\"https://colab.research.google.com/github/sebastianacebedo/CPE-201L-DSA-2-A/blob/main/DSA_Lab_Report_4.ipynb\" target=\"_parent\"><img src=\"https://colab.research.google.com/assets/colab-badge.svg\" alt=\"Open In Colab\"/></a>"
      ]
    },
    {
      "cell_type": "code",
      "source": [
        "class Grocery:\n",
        "    def __init__(self, name, price, quantity):\n",
        "        self.name = name\n",
        "        self.price = price\n",
        "        self.quantity = quantity\n",
        "\n",
        "    # Copy Constructor equivalent\n",
        "    def copy(self):\n",
        "        return Grocery(self.name, self.price, self.quantity)\n",
        "\n",
        "    # Copy Assignment equivalent\n",
        "    def assign(self, other):\n",
        "        self.name = other.name\n",
        "        self.price = other.price\n",
        "        self.quantity = other.quantity\n",
        "\n",
        "    # Destructor\n",
        "    def __del__(self):\n",
        "        print(f\"\\nDeleting {self.name}\")\n",
        "\n",
        "    def calculate(self):\n",
        "        return self.price * self.quantity\n",
        "\n",
        "\n",
        "class Fruit(Grocery):\n",
        "    def __init__(self, name, price, quantity):\n",
        "        super().__init__(name, price, quantity)\n",
        "\n",
        "\n",
        "class Vegetable(Grocery):\n",
        "    def __init__(self, name, price, quantity):\n",
        "        super().__init__(name, price, quantity)\n",
        "\n",
        "\n",
        "class GroceryList:\n",
        "    def __init__(self):\n",
        "        self.groceries = []\n",
        "\n",
        "    def add_item(self, item):\n",
        "        self.groceries.append(item)\n",
        "\n",
        "    def display_items(self):\n",
        "        for item in self.groceries:\n",
        "            print(f\"{item.name}: PHP {item.price} x {item.quantity} = PHP {item.calculate()}\")\n",
        "\n",
        "    def total_sum(self):\n",
        "        return sum(item.calculate() for item in self.groceries if item is not None)\n",
        "\n",
        "    def delete_item(self, item_name):\n",
        "      for i, item in enumerate(self.groceries):\n",
        "        if item.name == item_name:\n",
        "            del self.groceries[i]  # remove reference so GC can free memory\n",
        "            break\n",
        "\n",
        "\n",
        "def main():\n",
        "    grocery_list = GroceryList()\n",
        "\n",
        "    # Problem 2: Adding items\n",
        "    grocery_list.add_item(Fruit(\"Apple\", 10, 7))\n",
        "    grocery_list.add_item(Fruit(\"Banana\", 10, 8))\n",
        "    grocery_list.add_item(Vegetable(\"Broccoli\", 60, 12))\n",
        "    grocery_list.add_item(Vegetable(\"Lettuce\", 50, 10))\n",
        "\n",
        "    # Displaying original list\n",
        "    print(\"Jenna's Grocery List:\\n\")\n",
        "    grocery_list.display_items()\n",
        "\n",
        "    # Problem 3: Calculating total sum\n",
        "    total = grocery_list.total_sum()\n",
        "    print(f\"\\nTotal amount to pay: PHP {total}\")\n",
        "\n",
        "    # Problem 4: Deleting Lettuce\n",
        "    grocery_list.delete_item(\"Lettuce\")\n",
        "\n",
        "    # Displaying updated list\n",
        "    print(\"\\nUpdated Grocery List:\")\n",
        "    grocery_list.display_items()\n",
        "\n",
        "    # Updated total\n",
        "    total = grocery_list.total_sum()\n",
        "    print(f\"\\nTotal amount to pay after deletion: PHP {total}\")\n",
        "\n",
        "\n",
        "if __name__ == \"__main__\":\n",
        "    main()\n"
      ],
      "metadata": {
        "colab": {
          "base_uri": "https://localhost:8080/"
        },
        "id": "B19na8DJMzf1",
        "outputId": "c817689e-0e6c-4f0d-b231-c16e4948c69e"
      },
      "execution_count": 66,
      "outputs": [
        {
          "output_type": "stream",
          "name": "stdout",
          "text": [
            "Jenna's Grocery List:\n",
            "\n",
            "Apple: PHP 10 x 7 = PHP 70\n",
            "Banana: PHP 10 x 8 = PHP 80\n",
            "Broccoli: PHP 60 x 12 = PHP 720\n",
            "Lettuce: PHP 50 x 10 = PHP 500\n",
            "\n",
            "Total amount to pay: PHP 1370\n",
            "\n",
            "Deleting Lettuce\n",
            "\n",
            "Updated Grocery List:\n",
            "Apple: PHP 10 x 7 = PHP 70\n",
            "Banana: PHP 10 x 8 = PHP 80\n",
            "Broccoli: PHP 60 x 12 = PHP 720\n",
            "\n",
            "Total amount to pay after deletion: PHP 870\n",
            "\n",
            "Deleting Broccoli\n",
            "\n",
            "Deleting Banana\n",
            "\n",
            "Deleting Apple\n"
          ]
        }
      ]
    }
  ]
}