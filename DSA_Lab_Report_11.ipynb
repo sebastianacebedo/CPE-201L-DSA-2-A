{
  "nbformat": 4,
  "nbformat_minor": 0,
  "metadata": {
    "colab": {
      "provenance": [],
      "authorship_tag": "ABX9TyMWl26ZIWvG7jWBoXlRVvCW",
      "include_colab_link": true
    },
    "kernelspec": {
      "name": "python3",
      "display_name": "Python 3"
    },
    "language_info": {
      "name": "python"
    }
  },
  "cells": [
    {
      "cell_type": "markdown",
      "metadata": {
        "id": "view-in-github",
        "colab_type": "text"
      },
      "source": [
        "<a href=\"https://colab.research.google.com/github/sebastianacebedo/CPE-201L-DSA-2-A/blob/main/DSA_Lab_Report_11.ipynb\" target=\"_parent\"><img src=\"https://colab.research.google.com/assets/colab-badge.svg\" alt=\"Open In Colab\"/></a>"
      ]
    },
    {
      "cell_type": "code",
      "execution_count": 7,
      "metadata": {
        "colab": {
          "base_uri": "https://localhost:8080/"
        },
        "id": "0vTtU8w6hwDY",
        "outputId": "01ae6806-ea18-4c7e-ab1f-a46ed107540b"
      },
      "outputs": [
        {
          "output_type": "stream",
          "name": "stdout",
          "text": [
            "Graph structure:\n",
            "0: [1, 2]\n",
            "1: [0, 2]\n",
            "2: [0, 1, 3]\n",
            "3: [2, 4]\n",
            "4: [3]\n",
            "\n",
            "BFS starting from 0: [0, 1, 2, 3, 4]\n",
            "DFS starting from 0: [0, 1, 2, 3, 4]\n",
            "\n",
            "After adding more edges:\n",
            "BFS starting from 0: [0, 1, 2, 4, 3, 5]\n",
            "DFS starting from 0: [0, 1, 2, 3, 4, 5]\n"
          ]
        }
      ],
      "source": [
        "from collections import deque\n",
        "\n",
        "class Graph:\n",
        "    def __init__(self):\n",
        "        self.graph = {}\n",
        "\n",
        "    def add_edge(self, u, v):\n",
        "        \"\"\"Add an edge between u and v\"\"\"\n",
        "        if u not in self.graph:\n",
        "            self.graph[u] = []\n",
        "        if v not in self.graph:\n",
        "            self.graph[v] = []\n",
        "\n",
        "        self.graph[u].append(v)\n",
        "        self.graph[v].append(u)  # For undirected graph\n",
        "\n",
        "    def bfs(self, start):\n",
        "        \"\"\"Breadth-First Search traversal\"\"\"\n",
        "        visited = set()\n",
        "        queue = deque([start])\n",
        "        result = []\n",
        "\n",
        "        while queue:\n",
        "            vertex = queue.popleft()\n",
        "            if vertex not in visited:\n",
        "                visited.add(vertex)\n",
        "                result.append(vertex)\n",
        "                # Add all unvisited neighbors\n",
        "                for neighbor in self.graph.get(vertex, []):\n",
        "                    if neighbor not in visited:\n",
        "                        queue.append(neighbor)\n",
        "        return result\n",
        "\n",
        "    def dfs(self, start):\n",
        "        \"\"\"Depth-First Search traversal\"\"\"\n",
        "        visited = set()\n",
        "        result = []\n",
        "\n",
        "        def dfs_util(vertex):\n",
        "            visited.add(vertex)\n",
        "            result.append(vertex)\n",
        "            for neighbor in self.graph.get(vertex, []):\n",
        "                if neighbor not in visited:\n",
        "                    dfs_util(neighbor)\n",
        "\n",
        "        dfs_util(start)\n",
        "        return result\n",
        "\n",
        "    def display(self):\n",
        "        \"\"\"Display the graph\"\"\"\n",
        "        for vertex in self.graph:\n",
        "            print(f\"{vertex}: {self.graph[vertex]}\")\n",
        "\n",
        "# Example usage\n",
        "if __name__ == \"__main__\":\n",
        "    # Create a graph\n",
        "    g = Graph()\n",
        "\n",
        "    # Add edges\n",
        "    g.add_edge(0, 1)\n",
        "    g.add_edge(0, 2)\n",
        "    g.add_edge(1, 2)\n",
        "    g.add_edge(2, 3)\n",
        "    g.add_edge(3, 4)\n",
        "\n",
        "    # Display the graph\n",
        "    print(\"Graph structure:\")\n",
        "    g.display()\n",
        "\n",
        "    # Traversal examples\n",
        "    print(f\"\\nBFS starting from 0: {g.bfs(0)}\")\n",
        "    print(f\"DFS starting from 0: {g.dfs(0)}\")\n",
        "\n",
        "    # Add more edges and show\n",
        "    g.add_edge(4, 5)\n",
        "    g.add_edge(1, 4)\n",
        "\n",
        "    print(f\"\\nAfter adding more edges:\")\n",
        "    print(f\"BFS starting from 0: {g.bfs(0)}\")\n",
        "    print(f\"DFS starting from 0: {g.dfs(0)}\")\n"
      ]
    }
  ]
}