{
  "nbformat": 4,
  "nbformat_minor": 0,
  "metadata": {
    "colab": {
      "provenance": [],
      "authorship_tag": "ABX9TyO5xyK5b/sRJRMhw0JeHrrx",
      "include_colab_link": true
    },
    "kernelspec": {
      "name": "python3",
      "display_name": "Python 3"
    },
    "language_info": {
      "name": "python"
    }
  },
  "cells": [
    {
      "cell_type": "markdown",
      "metadata": {
        "id": "view-in-github",
        "colab_type": "text"
      },
      "source": [
        "<a href=\"https://colab.research.google.com/github/sebastianacebedo/CPE-201L-DSA-2-A/blob/main/DSA_Lab_Report_2.ipynb\" target=\"_parent\"><img src=\"https://colab.research.google.com/assets/colab-badge.svg\" alt=\"Open In Colab\"/></a>"
      ]
    },
    {
      "cell_type": "code",
      "execution_count": 14,
      "metadata": {
        "colab": {
          "base_uri": "https://localhost:8080/"
        },
        "id": "N-mMCZVtrdM3",
        "outputId": "cecd41bb-1e67-47a6-c2f9-76ef1b5bf51b"
      },
      "outputs": [
        {
          "output_type": "stream",
          "name": "stdout",
          "text": [
            "Min: 5\n",
            "Max: 60\n"
          ]
        }
      ],
      "source": [
        "my_list = [5, 60, 40, 43, 56, 23, 12]\n",
        "\n",
        "def min_max(list):\n",
        "    return (min(list), max(list))\n",
        "\n",
        "min_num, max_num = min_max(my_list)\n",
        "print(\"Min:\", min_num)\n",
        "print(\"Max:\", max_num)\n",
        "\n"
      ]
    }
  ]
}