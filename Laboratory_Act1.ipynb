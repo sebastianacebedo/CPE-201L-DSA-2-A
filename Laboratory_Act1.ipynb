{
  "nbformat": 4,
  "nbformat_minor": 0,
  "metadata": {
    "colab": {
      "provenance": [],
      "authorship_tag": "ABX9TyOYplhmp9c9t//IJMlfn3ca",
      "include_colab_link": true
    },
    "kernelspec": {
      "name": "python3",
      "display_name": "Python 3"
    },
    "language_info": {
      "name": "python"
    }
  },
  "cells": [
    {
      "cell_type": "markdown",
      "metadata": {
        "id": "view-in-github",
        "colab_type": "text"
      },
      "source": [
        "<a href=\"https://colab.research.google.com/github/sebastianacebedo/CPE-201L-DSA-2-A/blob/main/Laboratory_Act1.ipynb\" target=\"_parent\"><img src=\"https://colab.research.google.com/assets/colab-badge.svg\" alt=\"Open In Colab\"/></a>"
      ]
    },
    {
      "cell_type": "code",
      "execution_count": 15,
      "metadata": {
        "colab": {
          "base_uri": "https://localhost:8080/"
        },
        "id": "iuRTzuWIBRYo",
        "outputId": "62c348b9-b361-48e4-f735-61f8479a311a"
      },
      "outputs": [
        {
          "output_type": "stream",
          "name": "stdout",
          "text": [
            "Type: Triangle\n",
            "Sides: 3\n",
            "Area: 36.0\n",
            "\n",
            "\n",
            "Type: Rhombus\n",
            "Sides: 4\n",
            "Area: 96.0\n",
            "\n",
            "\n",
            "Type: Parallelogram\n",
            "Sides: 4\n",
            "Area: 726\n",
            "\n",
            "\n"
          ]
        }
      ],
      "source": [
        "class Polygons:\n",
        "    def __init__(self, sides: int) -> None:\n",
        "        self.sides = sides\n",
        "        self.polygon_type: str = \"\"\n",
        "        self.area: float = 0.0\n",
        "\n",
        "    def get_area(self) -> float:\n",
        "        return self.area\n",
        "\n",
        "    def __str__(self) -> str:\n",
        "        return f\"Type: {self.polygon_type}\\nSides: {self.sides}\\nArea: {self.area}\"\n",
        "\n",
        "\n",
        "class Triangle(Polygons):\n",
        "    def __init__(self, sides: int, base: float, height: float):\n",
        "        super().__init__(sides)\n",
        "        self.polygon_type = 'Triangle'\n",
        "        self.area = (1/2) * base * height\n",
        "\n",
        "\n",
        "class Rhombus(Polygons):\n",
        "    def __init__(self, sides: int, diagonal1: float, diagonal2: float):\n",
        "        super().__init__(sides)\n",
        "        self.polygon_type = 'Rhombus'\n",
        "        self.area = (diagonal1 * diagonal2) / 2\n",
        "\n",
        "\n",
        "class Parallelogram(Polygons):\n",
        "    def __init__(self, sides: int, base: float, height: float):\n",
        "        super().__init__(sides)\n",
        "        self.polygon_type = 'Parallelogram'\n",
        "        self.area = base * height\n",
        "\n",
        "\n",
        "\n",
        "triangle = Triangle(3, 12, 6)\n",
        "print(triangle)\n",
        "print(\"\\n\")\n",
        "\n",
        "rhombus = Rhombus(4, 16, 12)\n",
        "print(rhombus)\n",
        "print(\"\\n\")\n",
        "\n",
        "parallelogram = Parallelogram(4, 22, 33)\n",
        "print(parallelogram)\n",
        "print(\"\\n\")\n",
        "\n",
        "\n"
      ]
    }
  ]
}