{
  "nbformat": 4,
  "nbformat_minor": 0,
  "metadata": {
    "colab": {
      "provenance": [],
      "authorship_tag": "ABX9TyNVXqi9FbDr3MwKezalDwJi",
      "include_colab_link": true
    },
    "kernelspec": {
      "name": "python3",
      "display_name": "Python 3"
    },
    "language_info": {
      "name": "python"
    }
  },
  "cells": [
    {
      "cell_type": "markdown",
      "metadata": {
        "id": "view-in-github",
        "colab_type": "text"
      },
      "source": [
        "<a href=\"https://colab.research.google.com/github/sebastianacebedo/CPE-201L-DSA-2-A/blob/main/DSA_Lab_Report_6.ipynb\" target=\"_parent\"><img src=\"https://colab.research.google.com/assets/colab-badge.svg\" alt=\"Open In Colab\"/></a>"
      ]
    },
    {
      "cell_type": "code",
      "execution_count": 13,
      "metadata": {
        "colab": {
          "base_uri": "https://localhost:8080/"
        },
        "id": "deyNaVXpKIiT",
        "outputId": "63904cad-25a3-48f3-e241-168cf15c2a3b"
      },
      "outputs": [
        {
          "output_type": "stream",
          "name": "stdout",
          "text": [
            "2 -> 3 -> 5 -> 7 -> 11 -> 13 -> 17 -> 19 -> None\n",
            "Head of the list: 2\n",
            "Tail of the list: 19\n"
          ]
        }
      ],
      "source": [
        "class Node:\n",
        "    def __init__(self, data):\n",
        "        self.data = data\n",
        "        self.next = None\n",
        "\n",
        "def insert(head, data):\n",
        "    new_node = Node(data)\n",
        "    new_node.next = head\n",
        "    return new_node\n",
        "\n",
        "def traverse(head):\n",
        "    current = head\n",
        "    while current:\n",
        "        print(current.data, end=\" -> \")\n",
        "        if current.next is None:\n",
        "            tail = current\n",
        "        current = current.next\n",
        "    print(\"None\")\n",
        "    return head, tail\n",
        "\n",
        "head = None\n",
        "head = insert(head, 19)\n",
        "head = insert(head, 17)\n",
        "head = insert(head, 13)\n",
        "head = insert(head, 11)\n",
        "head = insert(head, 7)\n",
        "head = insert(head, 5)\n",
        "head = insert(head, 3)\n",
        "head = insert(head, 2)\n",
        "\n",
        "head, tail = traverse(head)\n",
        "if head:\n",
        "    print(\"Head of the list:\", head.data)\n",
        "if tail:\n",
        "    print(\"Tail of the list:\", tail.data)\n"
      ]
    }
  ]
}