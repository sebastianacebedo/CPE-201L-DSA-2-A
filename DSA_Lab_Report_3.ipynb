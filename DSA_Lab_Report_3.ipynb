{
  "nbformat": 4,
  "nbformat_minor": 0,
  "metadata": {
    "colab": {
      "provenance": [],
      "authorship_tag": "ABX9TyM8oYhmDhflLvm6TIVJ5wm4",
      "include_colab_link": true
    },
    "kernelspec": {
      "name": "python3",
      "display_name": "Python 3"
    },
    "language_info": {
      "name": "python"
    }
  },
  "cells": [
    {
      "cell_type": "markdown",
      "metadata": {
        "id": "view-in-github",
        "colab_type": "text"
      },
      "source": [
        "<a href=\"https://colab.research.google.com/github/sebastianacebedo/CPE-201L-DSA-2-A/blob/main/DSA_Lab_Report_3.ipynb\" target=\"_parent\"><img src=\"https://colab.research.google.com/assets/colab-badge.svg\" alt=\"Open In Colab\"/></a>"
      ]
    },
    {
      "cell_type": "code",
      "execution_count": 14,
      "metadata": {
        "colab": {
          "base_uri": "https://localhost:8080/"
        },
        "id": "Mvg8__Tm8oCn",
        "outputId": "7641777b-21b0-4371-b072-b42489eebf64"
      },
      "outputs": [
        {
          "output_type": "stream",
          "name": "stdout",
          "text": [
            "The sum of even test scores is: 186\n"
          ]
        }
      ],
      "source": [
        "score = [26,49,98,87,62,75] #the even number here is 26, 98, 62\n",
        "even_sum = 0\n",
        "for score in test_scores:\n",
        "    if score % 2 == 0:\n",
        "        even_sum += score\n",
        "print(\"The sum of even test scores is:\", even_sum)\n"
      ]
    }
  ]
}